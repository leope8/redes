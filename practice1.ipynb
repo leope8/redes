{
 "cells": [
  {
   "cell_type": "markdown",
   "metadata": {},
   "source": [
    "### Parte 1: Análisis básico de redes con NetworkX"
   ]
  },
  {
   "cell_type": "markdown",
   "metadata": {},
   "source": [
    "Apartado 1"
   ]
  },
  {
   "cell_type": "markdown",
   "metadata": {},
   "source": [
    "1.Representad el siguiente grafo dirigido mediante (a) una matriz de adyacencia y (b) una\n",
    "lista de adyacencia."
   ]
  },
  {
   "cell_type": "code",
   "execution_count": 2,
   "metadata": {},
   "outputs": [
    {
     "data": {
      "text/plain": [
       "' Lista de adyacencia\\n1 -> 2 -> 5 -> 10\\n2 \\n3 -> 4\\n4 -> 2 -> 5\\n5 -> 1\\n6 -> 7 -> 9 -> 10\\n7 -> 6 -> 8 -> 9\\n8 \\n9 -> 6 -> 8\\n10 -> 1 -> 6\\n'"
      ]
     },
     "execution_count": 2,
     "metadata": {},
     "output_type": "execute_result"
    }
   ],
   "source": [
    "\"\"\" Matriz de adyacencia\n",
    "0 1 0 0 1 0 0 0 0 1\n",
    "0 0 0 0 0 0 0 0 0 0\n",
    "0 0 0 1 0 0 0 0 0 0\n",
    "0 1 0 0 1 0 0 0 0 0\n",
    "1 0 0 0 0 0 0 0 0 0\n",
    "0 0 0 0 0 0 0 0 1 1\n",
    "0 0 0 0 0 1 0 1 1 0\n",
    "0 0 0 0 0 0 0 0 0 0\n",
    "0 0 0 0 0 1 0 1 0 0\n",
    "1 0 0 0 0 1 0 0 0 0\n",
    "\n",
    "\"\"\"\n",
    "\"\"\" Lista de adyacencia\n",
    "1 -> 2 -> 5 -> 10\n",
    "2 \n",
    "3 -> 4\n",
    "4 -> 2 -> 5\n",
    "5 -> 1\n",
    "6 -> 7 -> 9 -> 10\n",
    "7 -> 6 -> 8 -> 9\n",
    "8 \n",
    "9 -> 6 -> 8\n",
    "10 -> 1 -> 6\n",
    "\"\"\""
   ]
  },
  {
   "cell_type": "markdown",
   "metadata": {},
   "source": [
    "Preguntas\n",
    "\n",
    "*a) ¿Es ponderado?*\n",
    "\n",
    "No, no es ponderado.\n",
    "\n",
    "*b) ¿Es conexo?*\n",
    "\n",
    "No, no es conexo. Por ejemplo, no hay camino que lleve al nodo 3.\n",
    "\n",
    "*c) ¿Es débilmente conexo?*\n",
    "\n",
    "Sí, es débilmente conexo, ya que al convertirlo a grafo no dirigido entonces sí es conexo.\n",
    "\n",
    "*d) ¿Cuál es su tamaño y su orden?*\n",
    "\n",
    "Tiene 16 ramas, por lo que su tamaño es de 16. Tiene 10 nodos, por lo que su orden es de 10.\n",
    "\n",
    "*e) ¿Tiene algún punto de articulación? En caso positivo, indica cuál.*\n",
    "\n",
    "Considerando el grafo como no dirigido, los puntos de articulación serían los nodos 4, 1, 10 y 6.\n",
    "\n",
    "*f) ¿Tiene lazos?*\n",
    "\n",
    "No, no tiene lazos.\n",
    "\n",
    "*g) ¿El grafo tiene algún ciclo? En caso positivo, indica cuál.*\n",
    "\n",
    "Sí tiene ciclos. Por ejemplo, 1 -> 5 -> 1.\n",
    "\n",
    "*h) ¿Existe algún camino entre los nodos 4 y 7? En caso positivo, indica cual es y su longitud.*\n",
    "\n",
    "No, no existe ningún camino entre los nodos 4 y 7.\n",
    "\n",
    "*i) ¿Existe algún camino entre los nodos 3 y 9? En caso positivo, indica cual es y su longitud.*\n",
    "\n",
    "Sí. El camino es 3 -> 4 -> 5 -> 1 -> 10 -> 6 -> 9, y su longitud es de 6, ya que tiene 6 ramas."
   ]
  },
  {
   "cell_type": "markdown",
   "metadata": {},
   "source": [
    "Considera ahora el grafo no dirigido:\n"
   ]
  },
  {
   "cell_type": "markdown",
   "metadata": {},
   "source": [
    "*a. ¿El grafo tiene algún ciclo? En caso afirmativo, indica cual.*\n",
    "\n",
    "Sí. Hay varios ciclos, el 1-2-4-5-1, el 6-7-8-9-6, el 6-7-9-6 y el 7-8-9-7\n",
    "\n",
    "*b. ¿Cuál es el mayor valor de k para el cual existe un k-core?.*\n",
    "\n",
    "El mayor valor de k para el cual existe un k-core sería k=2, el subgrafo que compone el 3-core estaría compuesto por todos los vértices menos el 3\n",
    "\n",
    "*c. Calcula el índice de clusterización del nodo 10*\n",
    "\n",
    "$C_v= \\frac {N}{k_v(k_v-1)\\frac{1}{2}}=\\frac{0}{2*1*\\frac{1}{2}}=0$\n",
    "\n",
    "*d. Calcula el camino característico del nodo 10.*\n",
    "\n",
    "$L_v=\\sum_{k=1}^{|V|}\\frac{d(v,v_k)}{|V|-1}=\\frac{4}{9}+2*\\frac{3}{9}+4*\\frac{2}{9}+2*\\frac{1}{9}=\\frac{20}{9}$\n",
    "\n",
    "*e. Existe algún cliqué de orden mayor de 2. En caso positivo, indica los nodos que\n",
    "lo componen.*\n",
    "\n",
    "Sí, existen dos cliqués de orden 3, el subgrafo compuesto por los vértices 6, 7 y 9, y el subgrafo compuesto por los vértices 7, 8 y 9"
   ]
  },
  {
   "cell_type": "markdown",
   "metadata": {},
   "source": [
    "### Apartado 2"
   ]
  },
  {
   "cell_type": "code",
   "execution_count": 3,
   "metadata": {},
   "outputs": [],
   "source": [
    "import networkx"
   ]
  },
  {
   "cell_type": "code",
   "execution_count": null,
   "metadata": {},
   "outputs": [
    {
     "name": "stdout",
     "output_type": "stream",
     "text": [
      "Graph with 1387 nodes and 1648 edges\n"
     ]
    }
   ],
   "source": [
    "G_CE = networkx.read_edgelist(\"CaernoElegans-LC_uw.txt\")"
   ]
  },
  {
   "cell_type": "code",
   "execution_count": null,
   "metadata": {},
   "outputs": [
    {
     "data": {
      "text/plain": [
       "961191.0"
      ]
     },
     "execution_count": 7,
     "metadata": {},
     "output_type": "execute_result"
    }
   ],
   "source": [
    "networkx.number_of_nodes(G_CE)\n"
   ]
  },
  {
   "cell_type": "code",
   "execution_count": 6,
   "metadata": {},
   "outputs": [
    {
     "data": {
      "text/plain": [
       "1648"
      ]
     },
     "execution_count": 6,
     "metadata": {},
     "output_type": "execute_result"
    }
   ],
   "source": [
    "networkx.number_of_edges(G_CE)"
   ]
  }
 ],
 "metadata": {
  "kernelspec": {
   "display_name": "base",
   "language": "python",
   "name": "python3"
  },
  "language_info": {
   "codemirror_mode": {
    "name": "ipython",
    "version": 3
   },
   "file_extension": ".py",
   "mimetype": "text/x-python",
   "name": "python",
   "nbconvert_exporter": "python",
   "pygments_lexer": "ipython3",
   "version": "3.12.7"
  }
 },
 "nbformat": 4,
 "nbformat_minor": 2
}
