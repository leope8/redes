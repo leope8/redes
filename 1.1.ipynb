{
 "cells": [
  {
   "cell_type": "markdown",
   "metadata": {},
   "source": [
    "### Parte 1: Análisis básico de redes con NetworkX"
   ]
  },
  {
   "cell_type": "markdown",
   "metadata": {},
   "source": [
    "Apartado 1"
   ]
  },
  {
   "cell_type": "code",
   "execution_count": null,
   "metadata": {},
   "outputs": [],
   "source": [
    "\"\"\" Matriz de adyacencia\n",
    "0 1 0 0 1 0 0 0 0 1\n",
    "0 0 0 0 0 0 0 0 0 0\n",
    "0 0 0 1 0 0 0 0 0 0\n",
    "0 1 0 0 1 0 0 0 0 0\n",
    "1 0 0 0 0 0 0 0 0 0\n",
    "0 0 0 0 0 0 0 0 1 1\n",
    "0 0 0 0 0 1 0 1 1 0\n",
    "0 0 0 0 0 0 0 0 0 0\n",
    "0 0 0 0 0 1 0 1 0 0\n",
    "1 0 0 0 0 1 0 0 0 0\n",
    "\n",
    "\"\"\"\n",
    "\"\"\" Lista de adyacencia\n",
    "1 -> 2 -> 5 -> 10\n",
    "2 \n",
    "3 -> 4\n",
    "4 -> 2 -> 5\n",
    "5 -> 1\n",
    "6 -> 7 -> 9 -> 10\n",
    "7 -> 6 -> 8 -> 9\n",
    "8 \n",
    "9 -> 6 -> 8\n",
    "10 -> 1 -> 6\n",
    "\"\"\""
   ]
  },
  {
   "cell_type": "markdown",
   "metadata": {},
   "source": [
    "### Apartado 2"
   ]
  },
  {
   "cell_type": "code",
   "execution_count": 1,
   "metadata": {},
   "outputs": [],
   "source": [
    "import networkx"
   ]
  },
  {
   "cell_type": "code",
   "execution_count": null,
   "metadata": {},
   "outputs": [],
   "source": [
    "G_CE = networkx.read"
   ]
  }
 ],
 "metadata": {
  "kernelspec": {
   "display_name": "base",
   "language": "python",
   "name": "python3"
  },
  "language_info": {
   "codemirror_mode": {
    "name": "ipython",
    "version": 3
   },
   "file_extension": ".py",
   "mimetype": "text/x-python",
   "name": "python",
   "nbconvert_exporter": "python",
   "pygments_lexer": "ipython3",
   "version": "3.12.7"
  }
 },
 "nbformat": 4,
 "nbformat_minor": 2
}
